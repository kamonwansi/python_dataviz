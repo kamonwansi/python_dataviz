{
 "cells": [
  {
   "cell_type": "markdown",
   "metadata": {},
   "source": [
    "# Function\n",
    "### print ชื่อ XXX นามสกุล YYY รหัส ZZZ\n",
    "### print เกรด วิชา Stat 1 >> AAA"
   ]
  },
  {
   "cell_type": "code",
   "execution_count": 2,
   "metadata": {},
   "outputs": [
    {
     "name": "stdout",
     "output_type": "stream",
     "text": [
      "ชื่อ กมลวรรณ มีป้อง รหัส 603021851-0\n"
     ]
    }
   ],
   "source": [
    "a = 'ชื่อ กมลวรรณ มีป้อง รหัส 603021851-0'\n",
    "print(a)"
   ]
  },
  {
   "cell_type": "code",
   "execution_count": 4,
   "metadata": {},
   "outputs": [
    {
     "name": "stdout",
     "output_type": "stream",
     "text": [
      "ชื่อ กมลวรรณ นามสกุล มีป้อง รหัส 603021851-0 \n"
     ]
    }
   ],
   "source": [
    "name = 'กมลวรรณ'\n",
    "surname = 'มีป้อง'\n",
    "ID = '603021851-0'\n",
    "b = f'ชื่อ {name } นามสกุล {surname } รหัส {ID} '\n",
    "print(b)"
   ]
  },
  {
   "cell_type": "markdown",
   "metadata": {},
   "source": [
    "### Function tamplate"
   ]
  },
  {
   "cell_type": "markdown",
   "metadata": {},
   "source": [
    "```python\n",
    "def funct_name(x):\n",
    "      do_something\n",
    "     return y\n",
    "```"
   ]
  },
  {
   "cell_type": "code",
   "execution_count": 7,
   "metadata": {},
   "outputs": [],
   "source": [
    "def print_line1(name1,surname1,ID1):\n",
    "      st =  f'ชื่อ {name1} นามสกุล {surname1} รหัส {ID1} '\n",
    "      return st"
   ]
  },
  {
   "cell_type": "code",
   "execution_count": 8,
   "metadata": {},
   "outputs": [
    {
     "name": "stdout",
     "output_type": "stream",
     "text": [
      "ชื่อ นิรชร นามสกุล บรรณสาร รหัส 603020474-7 \n"
     ]
    }
   ],
   "source": [
    "print(print_line1('นิรชร','บรรณสาร','603020474-7'))"
   ]
  },
  {
   "cell_type": "markdown",
   "metadata": {},
   "source": [
    "## function without output"
   ]
  },
  {
   "cell_type": "code",
   "execution_count": 9,
   "metadata": {},
   "outputs": [],
   "source": [
    "def print_2line(name1,surname1,ID1,grade):\n",
    "      st =  f'ชื่อ {name1} นามสกุล {surname1} รหัส {ID1} '\n",
    "      print(st)\n",
    "      st2 = f'เกรดวิชา stat1 >>> {grade}'\n",
    "      print(st2)"
   ]
  },
  {
   "cell_type": "code",
   "execution_count": 12,
   "metadata": {},
   "outputs": [
    {
     "name": "stdout",
     "output_type": "stream",
     "text": [
      "ชื่อ กมลวรรณ นามสกุล มีป้อง รหัส 603021851-0 \n",
      "เกรดวิชา stat1 >>> A\n",
      "ชื่อ นิรชร นามสกุล บรรณสาร รหัส 603020474-7 \n",
      "เกรดวิชา stat1 >>> A\n",
      "ชื่อ กาญจนา นามสกุล พร้อมพรั่ง รหัส 603021856-0 \n",
      "เกรดวิชา stat1 >>> A\n"
     ]
    }
   ],
   "source": [
    "print_2line('กมลวรรณ','มีป้อง','603021851-0','A')\n",
    "print_2line('นิรชร','บรรณสาร','603020474-7','A')\n",
    "print_2line('กาญจนา','พร้อมพรั่ง','603021856-0','A')"
   ]
  },
  {
   "cell_type": "markdown",
   "metadata": {},
   "source": [
    " indent = เว้นวรรคผิด"
   ]
  },
  {
   "cell_type": "code",
   "execution_count": 13,
   "metadata": {},
   "outputs": [
    {
     "ename": "IndentationError",
     "evalue": "unexpected indent (<ipython-input-13-4005fd96372f>, line 5)",
     "output_type": "error",
     "traceback": [
      "\u001b[1;36m  File \u001b[1;32m\"<ipython-input-13-4005fd96372f>\"\u001b[1;36m, line \u001b[1;32m5\u001b[0m\n\u001b[1;33m    print(st2)\u001b[0m\n\u001b[1;37m    ^\u001b[0m\n\u001b[1;31mIndentationError\u001b[0m\u001b[1;31m:\u001b[0m unexpected indent\n"
     ]
    }
   ],
   "source": [
    "def print_2line(name1,surname1,ID1,grade):\n",
    "      st =  f'ชื่อ {name1} นามสกุล {surname1} รหัส {ID1} '\n",
    "      print(st)\n",
    "      st2 = f'เกรดวิชา stat1 >>> {grade}'\n",
    "       print(st2)"
   ]
  },
  {
   "cell_type": "markdown",
   "metadata": {},
   "source": [
    "หลังreturnจะหยุดทำงาน"
   ]
  },
  {
   "cell_type": "code",
   "execution_count": 16,
   "metadata": {},
   "outputs": [],
   "source": [
    "def print_2lines_er(name1,surname1,ID1,grade):\n",
    "      st =  f'ชื่อ {name1} นามสกุล {surname1} รหัส {ID1} '\n",
    "      return st\n",
    "      st2 = f'เกรดวิชา stat1 >>> {grade}'\n",
    "      print(st2)"
   ]
  },
  {
   "cell_type": "code",
   "execution_count": 18,
   "metadata": {},
   "outputs": [
    {
     "data": {
      "text/plain": [
       "'ชื่อ กมลวรรณ นามสกุล มีป้อง รหัส 603021851-0 '"
      ]
     },
     "execution_count": 18,
     "metadata": {},
     "output_type": "execute_result"
    }
   ],
   "source": [
    "print_2lines_er('กมลวรรณ','มีป้อง','603021851-0','A')"
   ]
  },
  {
   "cell_type": "markdown",
   "metadata": {},
   "source": [
    "## function without input"
   ]
  },
  {
   "cell_type": "code",
   "execution_count": 21,
   "metadata": {},
   "outputs": [],
   "source": [
    "def two_x_three():\n",
    "      x = 2*3\n",
    "      return x"
   ]
  },
  {
   "cell_type": "code",
   "execution_count": 22,
   "metadata": {},
   "outputs": [
    {
     "data": {
      "text/plain": [
       "6"
      ]
     },
     "execution_count": 22,
     "metadata": {},
     "output_type": "execute_result"
    }
   ],
   "source": [
    "two_x_three()"
   ]
  },
  {
   "cell_type": "markdown",
   "metadata": {},
   "source": [
    "## function with default argument\n",
    "ไม่ใส่ค่าเกรด ฟังชั่นจะแทนให้เป็นค่า F=defauit"
   ]
  },
  {
   "cell_type": "code",
   "execution_count": 23,
   "metadata": {},
   "outputs": [],
   "source": [
    "def print_2lines_default(name1,surname1,ID1,grade='F'):\n",
    "      st =  f'ชื่อ {name1} นามสกุล {surname1} รหัส {ID1} '\n",
    "      print (st)\n",
    "      st2 = f'เกรดวิชา stat1 >>> {grade}'\n",
    "      print(st2)"
   ]
  },
  {
   "cell_type": "code",
   "execution_count": 25,
   "metadata": {},
   "outputs": [
    {
     "name": "stdout",
     "output_type": "stream",
     "text": [
      "ชื่อ กมลวรรณ นามสกุล มีป้อง รหัส 603021851-0 \n",
      "เกรดวิชา stat1 >>> F\n"
     ]
    }
   ],
   "source": [
    "print_2lines_default('กมลวรรณ','มีป้อง','603021851-0')"
   ]
  },
  {
   "cell_type": "code",
   "execution_count": 27,
   "metadata": {},
   "outputs": [
    {
     "name": "stdout",
     "output_type": "stream",
     "text": [
      "ชื่อ กมลวรรณ นามสกุล มีป้อง รหัส 603021851-0 \n",
      "เกรดวิชา stat1 >>> A\n"
     ]
    }
   ],
   "source": [
    "print_2lines_default('กมลวรรณ','มีป้อง','603021851-0','A')"
   ]
  },
  {
   "cell_type": "code",
   "execution_count": 28,
   "metadata": {},
   "outputs": [
    {
     "name": "stdout",
     "output_type": "stream",
     "text": [
      "ชื่อ มีป้อง นามสกุล กมลวรรณ รหัส 603021851-0 \n",
      "เกรดวิชา stat1 >>> F\n"
     ]
    }
   ],
   "source": [
    "print_2lines_default(surname1 = 'กมลวรรณ',name1 = 'มีป้อง',ID1 = '603021851-0')"
   ]
  },
  {
   "cell_type": "markdown",
   "metadata": {},
   "source": [
    "## Loop (วนซ้ำ)"
   ]
  },
  {
   "cell_type": "markdown",
   "metadata": {},
   "source": [
    "```Python\n",
    "for each_member in listA:\n",
    "     do something\n",
    "```"
   ]
  },
  {
   "cell_type": "code",
   "execution_count": 55,
   "metadata": {},
   "outputs": [
    {
     "name": "stdout",
     "output_type": "stream",
     "text": [
      "1\n",
      "2\n",
      "3\n"
     ]
    }
   ],
   "source": [
    "for i in [1,2,3]:\n",
    "      print(i)"
   ]
  },
  {
   "cell_type": "code",
   "execution_count": 35,
   "metadata": {},
   "outputs": [
    {
     "name": "stdout",
     "output_type": "stream",
     "text": [
      "K -> /\n",
      " \n",
      "a -> /\n",
      " \n",
      "m -> /\n",
      " \n",
      "o -> /\n",
      " \n",
      "n -> /\n",
      " \n",
      "w -> /\n",
      " \n",
      "a -> /\n",
      " \n",
      "n -> /\n",
      " \n"
     ]
    }
   ],
   "source": [
    "for i in 'Kamonwan' :\n",
    "     print(f'{i} -> /')\n",
    "     print(' ')ความรู้สึก {feel1}"
   ]
  },
  {
   "cell_type": "markdown",
   "metadata": {},
   "source": [
    "## 1 สร้าง List ชื่อเพื่อน ที่อยู่ใน แถวเดียวกัน\n",
    "## 2 วนลูป print ประโยคว่า XXX YYY ZZZ \n",
    "## 3 วนลูป เรียก function โดยเปลี่ยนชื่อเพื่อนไปเรื่อยๆ"
   ]
  },
  {
   "cell_type": "markdown",
   "metadata": {},
   "source": [
    "function in loop"
   ]
  },
  {
   "cell_type": "code",
   "execution_count": 68,
   "metadata": {},
   "outputs": [],
   "source": [
    "list_f = ['บิว','ฝ้าย','เล็ก','ฟาง','ปิง']"
   ]
  },
  {
   "cell_type": "code",
   "execution_count": 69,
   "metadata": {},
   "outputs": [],
   "source": [
    "def print_feel(i,feel,friend):\n",
    "      print(f'{i} {feel} {friend}')"
   ]
  },
  {
   "cell_type": "code",
   "execution_count": 70,
   "metadata": {},
   "outputs": [
    {
     "name": "stdout",
     "output_type": "stream",
     "text": [
      "แป้ง รู้จัก บิวตี้\n"
     ]
    }
   ],
   "source": [
    "print_feel('แป้ง', 'รู้จัก', 'บิวตี้')"
   ]
  },
  {
   "cell_type": "code",
   "execution_count": 72,
   "metadata": {},
   "outputs": [
    {
     "name": "stdout",
     "output_type": "stream",
     "text": [
      "แป้ง รู้จัก บิว\n",
      "แป้ง รู้จัก ฝ้าย\n",
      "แป้ง รู้จัก เล็ก\n",
      "แป้ง รู้จัก ฟาง\n",
      "แป้ง รู้จัก ปิง\n"
     ]
    }
   ],
   "source": [
    "for f in list_f:\n",
    "     print_feel('แป้ง','รู้จัก',f)"
   ]
  },
  {
   "cell_type": "markdown",
   "metadata": {},
   "source": [
    "loop in loop=สามารถใช้ for ซ้อนกันสองรอบได้"
   ]
  },
  {
   "cell_type": "code",
   "execution_count": 91,
   "metadata": {},
   "outputs": [
    {
     "name": "stdout",
     "output_type": "stream",
     "text": [
      "บิว รัก บิว\n",
      "บิว รัก ฝ้าย\n",
      "บิว รัก เล็ก\n",
      "บิว รัก ฟาง\n",
      "บิว รัก ปิง\n",
      "ฝ้าย รัก บิว\n",
      "ฝ้าย รัก ฝ้าย\n",
      "ฝ้าย รัก เล็ก\n",
      "ฝ้าย รัก ฟาง\n",
      "ฝ้าย รัก ปิง\n",
      "เล็ก รัก บิว\n",
      "เล็ก รัก ฝ้าย\n",
      "เล็ก รัก เล็ก\n",
      "เล็ก รัก ฟาง\n",
      "เล็ก รัก ปิง\n",
      "ฟาง รัก บิว\n",
      "ฟาง รัก ฝ้าย\n",
      "ฟาง รัก เล็ก\n",
      "ฟาง รัก ฟาง\n",
      "ฟาง รัก ปิง\n",
      "ปิง รัก บิว\n",
      "ปิง รัก ฝ้าย\n",
      "ปิง รัก เล็ก\n",
      "ปิง รัก ฟาง\n",
      "ปิง รัก ปิง\n"
     ]
    }
   ],
   "source": [
    "for name1 in list_f:\n",
    "     for name2 in list_f:\n",
    "          print_feel(name1,'รัก',name2)"
   ]
  },
  {
   "cell_type": "markdown",
   "metadata": {},
   "source": [
    "loop in function = สร้างลูปเข้าไปในฟังชั่น"
   ]
  },
  {
   "cell_type": "code",
   "execution_count": 90,
   "metadata": {},
   "outputs": [],
   "source": [
    "def print_feel(i,feel,friend):\n",
    "        print(f'{i} {feel} {friend}')"
   ]
  },
  {
   "cell_type": "code",
   "execution_count": 74,
   "metadata": {},
   "outputs": [
    {
     "name": "stdout",
     "output_type": "stream",
     "text": [
      "แป้ง รู้จัก บิว\n",
      "แป้ง รู้จัก ฝ้าย\n",
      "แป้ง รู้จัก เล็ก\n",
      "แป้ง รู้จัก ฟาง\n",
      "แป้ง รู้จัก ปิง\n"
     ]
    }
   ],
   "source": [
    "print_feel('แป้ง', 'รู้จัก', list_f)"
   ]
  },
  {
   "cell_type": "markdown",
   "metadata": {},
   "source": [
    "looping in dic = วนลูปในดิค"
   ]
  },
  {
   "cell_type": "code",
   "execution_count": 77,
   "metadata": {},
   "outputs": [
    {
     "data": {
      "text/plain": [
       "{'พันทิพา': 'B', 'ศุภนิตา': 'c', 'ปนัดดา': 'A', 'ทรงกลด': 'F'}"
      ]
     },
     "execution_count": 77,
     "metadata": {},
     "output_type": "execute_result"
    }
   ],
   "source": [
    "name_grade =  {'พันทิพา':'B','ศุภนิตา':'c','ปนัดดา':'A','ทรงกลด':'F'}\n",
    "name_grade"
   ]
  },
  {
   "cell_type": "code",
   "execution_count": 80,
   "metadata": {},
   "outputs": [
    {
     "data": {
      "text/plain": [
       "'A'"
      ]
     },
     "execution_count": 80,
     "metadata": {},
     "output_type": "execute_result"
    }
   ],
   "source": [
    "name_grade['ปนัดดา']"
   ]
  },
  {
   "cell_type": "code",
   "execution_count": 82,
   "metadata": {},
   "outputs": [
    {
     "data": {
      "text/plain": [
       "dict_keys(['พันทิพา', 'ศุภนิตา', 'ปนัดดา', 'ทรงกลด'])"
      ]
     },
     "execution_count": 82,
     "metadata": {},
     "output_type": "execute_result"
    }
   ],
   "source": [
    "name_grade.keys()"
   ]
  },
  {
   "cell_type": "code",
   "execution_count": 81,
   "metadata": {},
   "outputs": [
    {
     "name": "stdout",
     "output_type": "stream",
     "text": [
      "พันทิพา ได้เกรด B\n",
      "ศุภนิตา ได้เกรด c\n",
      "ปนัดดา ได้เกรด A\n",
      "ทรงกลด ได้เกรด F\n"
     ]
    }
   ],
   "source": [
    "for i in name_grade.keys():\n",
    "      print(f'{i} ได้เกรด {name_grade[i]}')"
   ]
  },
  {
   "cell_type": "markdown",
   "metadata": {},
   "source": [
    "# conditional : เงื่อนไข"
   ]
  },
  {
   "cell_type": "markdown",
   "metadata": {},
   "source": [
    "# ==,!= ,>= ,<= ,< ,>"
   ]
  },
  {
   "cell_type": "markdown",
   "metadata": {},
   "source": [
    "```Python\n",
    "if condition1:\n",
    "    do sometinng\n",
    "elif condition2:\n",
    "    do another thing\n",
    " else:\n",
    "    do ...\n",
    "```"
   ]
  },
  {
   "cell_type": "code",
   "execution_count": 93,
   "metadata": {},
   "outputs": [
    {
     "name": "stdout",
     "output_type": "stream",
     "text": [
      "บิว รัก ฝ้าย\n",
      "บิว รัก เล็ก\n",
      "บิว รัก ฟาง\n",
      "บิว รัก ปิง\n",
      "ฝ้าย รัก บิว\n",
      "ฝ้าย รัก เล็ก\n",
      "ฝ้าย รัก ฟาง\n",
      "ฝ้าย รัก ปิง\n",
      "เล็ก รัก บิว\n",
      "เล็ก รัก ฝ้าย\n",
      "เล็ก รัก ฟาง\n",
      "เล็ก รัก ปิง\n",
      "ฟาง รัก บิว\n",
      "ฟาง รัก ฝ้าย\n",
      "ฟาง รัก เล็ก\n",
      "ฟาง รัก ปิง\n",
      "ปิง รัก บิว\n",
      "ปิง รัก ฝ้าย\n",
      "ปิง รัก เล็ก\n",
      "ปิง รัก ฟาง\n"
     ]
    }
   ],
   "source": [
    "for name1 in list_f:\n",
    "     for name2 in list_f:\n",
    "          if name1 != name2:\n",
    "            print_feel(name1,'รัก',name2)"
   ]
  },
  {
   "cell_type": "code",
   "execution_count": 94,
   "metadata": {},
   "outputs": [
    {
     "name": "stdout",
     "output_type": "stream",
     "text": [
      "Yes\n"
     ]
    }
   ],
   "source": [
    "if True:\n",
    "    print('Yes')"
   ]
  },
  {
   "cell_type": "code",
   "execution_count": 95,
   "metadata": {},
   "outputs": [],
   "source": [
    "if False:\n",
    "    print('No')"
   ]
  },
  {
   "cell_type": "code",
   "execution_count": 96,
   "metadata": {},
   "outputs": [
    {
     "name": "stdout",
     "output_type": "stream",
     "text": [
      "No\n"
     ]
    }
   ],
   "source": [
    "if False:\n",
    "    print('Yes')\n",
    "else:\n",
    "    print('No')"
   ]
  },
  {
   "cell_type": "code",
   "execution_count": 98,
   "metadata": {},
   "outputs": [
    {
     "data": {
      "text/plain": [
       "True"
      ]
     },
     "execution_count": 98,
     "metadata": {},
     "output_type": "execute_result"
    }
   ],
   "source": [
    "1 == 1"
   ]
  },
  {
   "cell_type": "code",
   "execution_count": 99,
   "metadata": {},
   "outputs": [
    {
     "name": "stdout",
     "output_type": "stream",
     "text": [
      "1==1\n"
     ]
    }
   ],
   "source": [
    "if 1 == 1:\n",
    "    print('1==1')"
   ]
  },
  {
   "cell_type": "markdown",
   "metadata": {},
   "source": [
    " HW เขียนฟังชั่นตัดเกรด โดยที่ input เป็นคะแนน(0-1000) output เป็นเกรด(f-a)\n",
    " \n",
    "input= [1, 50, 65, 90, 101, -5, 49]"
   ]
  },
  {
   "cell_type": "code",
   "execution_count": 7,
   "metadata": {},
   "outputs": [
    {
     "name": "stdout",
     "output_type": "stream",
     "text": [
      "[1, 50, 65, 90, 101, -5, 49]\n"
     ]
    }
   ],
   "source": [
    "Grade = [1,50,65,90,101,-5,49]\n",
    "print(Grade)"
   ]
  },
  {
   "cell_type": "code",
   "execution_count": 8,
   "metadata": {},
   "outputs": [
    {
     "name": "stdout",
     "output_type": "stream",
     "text": [
      "Grade is F\n",
      "Grade is D\n",
      "Grade is C+\n",
      "Grade is A\n",
      "Grade is Error\n",
      "Grade is Ereor\n",
      "Grade is F\n"
     ]
    }
   ],
   "source": [
    "for p in Grade:\n",
    "    if p > 100:\n",
    "        print('Grade is Error')\n",
    "    elif p > 79:\n",
    "        print ('Grade is A')\n",
    "    elif p > 74:\n",
    "        print ('Grade is B+')\n",
    "    elif p > 69:\n",
    "        print ('Grade is B')\n",
    "    elif p > 64:\n",
    "        print ('Grade is C+')\n",
    "    elif p > 59:\n",
    "        print ('Grade is C')\n",
    "    elif p > 54:\n",
    "        print ('Grade is D+')\n",
    "    elif p > 49:\n",
    "        print ('Grade is D')\n",
    "    elif p > 0:\n",
    "        print ('Grade is F')\n",
    "    else:\n",
    "        print ('Grade is Ereor')\n"
   ]
  },
  {
   "cell_type": "code",
   "execution_count": null,
   "metadata": {},
   "outputs": [],
   "source": []
  }
 ],
 "metadata": {
  "kernelspec": {
   "display_name": "Python 3",
   "language": "python",
   "name": "python3"
  },
  "language_info": {
   "codemirror_mode": {
    "name": "ipython",
    "version": 3
   },
   "file_extension": ".py",
   "mimetype": "text/x-python",
   "name": "python",
   "nbconvert_exporter": "python",
   "pygments_lexer": "ipython3",
   "version": "3.7.3"
  }
 },
 "nbformat": 4,
 "nbformat_minor": 2
}
